{
 "cells": [
  {
   "cell_type": "markdown",
   "metadata": {},
   "source": [
    "### Tabular DynaQ for the Simple Maze problem in figures 8.2 and 8.3\n",
    "\n",
    "Start by creating the simple maze, grid world, as illustrated in figures 8.2 and 8.3. Two function are used, one to tell us if a state is valid within the maze and the other is used to take action within the maze (environment), this function returns the new state and immediate reward."
   ]
  },
  {
   "cell_type": "code",
   "execution_count": 1,
   "metadata": {
    "collapsed": true
   },
   "outputs": [],
   "source": [
    "import numpy as np\n",
    "\n",
    "# create a grid world, tell us if this state exists in this world\n",
    "def gridworld(s):\n",
    "    nw = 6\n",
    "    mw = 9\n",
    "    world = np.zeros((nw+2,mw+2), dtype = bool)\n",
    "    world[1:(nw+1),1:(mw+1)] = True\n",
    "    world[2:5,3] = False\n",
    "    world[5,6] = False\n",
    "    world[1:4,8] = False\n",
    "    return world[s[0],s[1]]\n",
    "# the environment:\n",
    "def takeaction(s, a):\n",
    "    step = np.array([[-1,0],[1,0],[0,-1],[0,1]])\n",
    "    snew = s + step[a]\n",
    "    r = 0.0\n",
    "    if gridworld(snew) == True:\n",
    "        sterminal = np.array([1,9]) # the goal state\n",
    "        if np.all(snew == sterminal):\n",
    "            r = 1.0\n",
    "    else:\n",
    "        snew = s # stay in same location\n",
    "    return snew, r"
   ]
  },
  {
   "cell_type": "markdown",
   "metadata": {},
   "source": [
    "The policy uses in the usual $\\epsilon$-greedy function, here we would like to break ties randomly:"
   ]
  },
  {
   "cell_type": "code",
   "execution_count": 2,
   "metadata": {
    "collapsed": true
   },
   "outputs": [],
   "source": [
    "# a random tie-breaking argmax (code \"found\" on stackexchange)\n",
    "def randargmax(b,**kw):\n",
    "  return np.argmax(np.random.random(b.shape) * (b==b.max()), **kw)\n",
    "\n",
    "def epsilongreedy(epsilon, s, Q):\n",
    "    if (np.random.uniform() < epsilon):\n",
    "        a = np.random.choice(range(4),1)[0]\n",
    "    else:\n",
    "        a = randargmax(Q[s[0],s[1],:])\n",
    "    return a"
   ]
  },
  {
   "cell_type": "markdown",
   "metadata": {},
   "source": [
    "Here I implement the tabular-Dyna-Q algorithm. One aspect that could have been made clearer in the textbooks's pseudocode is that the epsisode continues (after the planning phase) from where it left off, else the procedure makes no sense."
   ]
  },
  {
   "cell_type": "code",
   "execution_count": 3,
   "metadata": {
    "collapsed": true
   },
   "outputs": [],
   "source": [
    "# let the two variables A(s,a) (state) and B(s,a) (reward) represent our Model \n",
    "# here we are using the same notation as in the Dyna2 paper\n",
    "def TabularDynaQ(gamma, epsilon, alpha, n):\n",
    "    nw = 6\n",
    "    mw = 9\n",
    "    Q = np.zeros((nw+2,mw+2,4))\n",
    "    A = np.zeros((nw+2,mw+2,4,2), dtype = int)\n",
    "    B = np.zeros((nw+2,mw+2,4,1), dtype = int)\n",
    "    Observed = np.zeros((nw+2,mw+2,4), dtype = bool)\n",
    "    forever = True\n",
    "    episode = 0\n",
    "    stepcount = np.zeros(50) # lets keep track of the steps needed to reach our terminal state!\n",
    "    while forever == True:\n",
    "        s = np.array([3,1]) # initial state\n",
    "        sterminal = np.array([1,9]) # the goal state\n",
    "        while np.all(s==sterminal) == False:\n",
    "            stepcount[episode] += 1\n",
    "            a = epsilongreedy(epsilon,s,Q)\n",
    "            snew, R = takeaction(s,a)\n",
    "            Q[s[0],s[1],a] += alpha*(R+gamma*np.max(Q[snew[0],snew[1],:])-Q[s[0],s[1],a])\n",
    "            A[s[0],s[1],a,:] = snew\n",
    "            B[s[0],s[1],a,0] = R\n",
    "            Observed[s[0],s[1],a] = True # Bookkeepping, record that we have visited this (state, action) before\n",
    "            ob = np.where(Observed == True) # which have been observed?\n",
    "            nob = len(ob[0]) # the number of observations\n",
    "            skeep = snew # this is missing in the Dyna-Q code p. 164 in book\n",
    "            akeep = a\n",
    "            for repeat in range(n): # in search, planning or dreaming mode:\n",
    "                choice = np.random.choice(range(nob),1)[0]\n",
    "                s = [ob[0][choice], ob[1][choice]]\n",
    "                a = ob[2][choice]\n",
    "                R = B[s[0],s[1],a,0] \n",
    "                snew = A[s[0],s[1],a,:]\n",
    "                Q[s[0],s[1],a] += alpha*(R+gamma*np.max(Q[snew[0],snew[1],:])-Q[s[0],s[1],a])\n",
    "            s = skeep # restore the true state before planning phase\n",
    "            a = akeep\n",
    "        episode += 1 \n",
    "        if episode >= 50:\n",
    "            forever = False # nothing is forever :)\n",
    "    return Q, stepcount"
   ]
  },
  {
   "cell_type": "markdown",
   "metadata": {},
   "source": [
    "OK, now we are ready to perform some experiments:"
   ]
  },
  {
   "cell_type": "code",
   "execution_count": 4,
   "metadata": {
    "collapsed": true
   },
   "outputs": [],
   "source": [
    "# to get a smoother picture than the one in figure 8.2 we will repeat the experiment M times\n",
    "def experiment(gamma, epsilon, alpha, n):\n",
    "    M = 10\n",
    "    Q, StepCount = TabularDynaQ(gamma, epsilon, alpha, n)  \n",
    "    for i in range(M-1):\n",
    "        _, sc = TabularDynaQ(gamma, epsilon, alpha, n)  \n",
    "        StepCount = StepCount + sc\n",
    "    StepCount = StepCount/M\n",
    "    return Q, StepCount"
   ]
  },
  {
   "cell_type": "code",
   "execution_count": 5,
   "metadata": {
    "collapsed": false
   },
   "outputs": [
    {
     "data": {
      "image/png": "[encoded data removed]",
      "text/plain": [
       "<Figure size 432x288 with 1 Axes>"
      ]
     },
     "metadata": {},
     "output_type": "display_data"
    }
   ],
   "source": [
    "gamma = 0.95\n",
    "alpha = 0.1\n",
    "epsilon = 0.1\n",
    "\n",
    "# %matplotlib inline\n",
    "import matplotlib.pyplot as plt\n",
    "for n in [0,5,50]:\n",
    "    Q, StepCount = experiment(gamma,epsilon, alpha, n)\n",
    "    plt.plot(range(1,51),StepCount, label = \"$n=$\" + str(n))\n",
    "plt.legend(loc='upper right')\n",
    "plt.show()"
   ]
  },
  {
   "cell_type": "markdown",
   "metadata": {},
   "source": [
    "You may also find it interesting to see one of the learned policies in this case the last experiment with $n = 50$:"
   ]
  },
  {
   "cell_type": "code",
   "execution_count": 6,
   "metadata": {
    "collapsed": false,
    "scrolled": true
   },
   "outputs": [],
   "source": [
    "def printpolicy(Q):\n",
    "    np.set_printoptions(threshold=np.nan)\n",
    "    symbol = ['✪','⇧','⇩','⇦','⇨','☺','☹']\n",
    "    n = 6\n",
    "    m = 9\n",
    "    I = np.zeros((n+2,m+2), dtype = int)\n",
    "    I[1:n+1,1:m+1] = 1+np.argmax(Q[1:n+1,1:m+1,:], axis=2)\n",
    "    I[2:5,3] = 0\n",
    "    I[5,6] = 0\n",
    "    I[1:4,8] = 0\n",
    "    I[3,1] = 6\n",
    "    I[1,9] = 5\n",
    "    Grid = np.zeros((n+2,m+2), dtype = 'U1')\n",
    "    for i in range(7): Grid[I == i] = symbol[i]\n",
    "    print(Grid)"
   ]
  },
  {
   "cell_type": "code",
   "execution_count": 7,
   "metadata": {
    "collapsed": false
   },
   "outputs": [
    {
     "name": "stdout",
     "output_type": "stream",
     "text": [
      "[['✪' '✪' '✪' '✪' '✪' '✪' '✪' '✪' '✪' '✪' '✪']\n",
      " ['✪' '⇩' '⇧' '⇧' '⇧' '⇧' '⇧' '⇧' '✪' '☺' '✪']\n",
      " ['✪' '⇩' '⇩' '✪' '⇧' '⇧' '⇧' '⇧' '✪' '⇧' '✪']\n",
      " ['✪' '☹' '⇩' '✪' '⇨' '⇩' '⇧' '⇩' '✪' '⇧' '✪']\n",
      " ['✪' '⇨' '⇩' '✪' '⇨' '⇨' '⇨' '⇨' '⇨' '⇧' '✪']\n",
      " ['✪' '⇨' '⇨' '⇨' '⇧' '⇧' '✪' '⇧' '⇨' '⇧' '✪']\n",
      " ['✪' '⇧' '⇧' '⇨' '⇨' '⇧' '⇧' '⇧' '⇧' '⇧' '✪']\n",
      " ['✪' '✪' '✪' '✪' '✪' '✪' '✪' '✪' '✪' '✪' '✪']]\n"
     ]
    }
   ],
   "source": [
    "printpolicy(Q)"
   ]
  },
  {
   "cell_type": "markdown",
   "metadata": {},
   "source": []
  }
 ],
 "metadata": {
  "kernelspec": {
   "display_name": "Python 3",
   "language": "python",
   "name": "python3"
  },
  "language_info": {
   "codemirror_mode": {
    "name": "ipython",
    "version": 3
   },
   "file_extension": ".py",
   "mimetype": "text/x-python",
   "name": "python",
   "nbconvert_exporter": "python",
   "pygments_lexer": "ipython3",
   "version": "3.5.3"
  }
 },
 "nbformat": 4,
 "nbformat_minor": 2
}
