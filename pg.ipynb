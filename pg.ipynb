{
 "cells": [
  {
   "cell_type": "code",
   "execution_count": 1,
   "metadata": {
    "collapsed": true
   },
   "outputs": [],
   "source": [
    "import numpy as np"
   ]
  },
  {
   "cell_type": "markdown",
   "metadata": {},
   "source": [
    "### The Two Armed Bandit Problem\n",
    "\n",
    "Imagine a two armed bandit each returning on average values:"
   ]
  },
  {
   "cell_type": "code",
   "execution_count": 2,
   "metadata": {
    "collapsed": false
   },
   "outputs": [],
   "source": [
    "Rtrue = np.array([10,12])"
   ]
  },
  {
   "cell_type": "markdown",
   "metadata": {},
   "source": [
    "We would like to learn to choose the arm with the highest reward with highest probability\n",
    "### Policy iteration using function appoximation\n",
    "Lets assume that the policy can be represented by the following function\n",
    "$$\n",
    "\\pi (a) = \\frac{\\exp \\big( \\sum_{i=1}^2 \\theta_i x_i(s,a) \\big)}{\\sum_{a = 1}^2\\exp \\big( \\sum_{i=1}^2 \\theta_ix_i(s,a) \\big)}\n",
    "$$\n",
    "and let the features be\n",
    "$$\n",
    "x_1(s,a) = \\begin{cases} 1 & \\mbox{when } a = 1 \\\\\n",
    "                       0 & \\mbox{otherwise}\n",
    "         \\end{cases}\n",
    "$$\n",
    "and\n",
    "$$\n",
    "x_2(s,a) = \\begin{cases} 1 & \\mbox{when } a = 2 \\\\\n",
    "                       0 & \\mbox{otherwise}\n",
    "         \\end{cases}\n",
    "$$\n",
    "Then \n",
    "$$\n",
    "\\pi (1) = \\frac{\\exp \\big( \\theta_1 \\big)}{\\exp(\\theta_1)+\\exp(\\theta_2)}\n",
    "$$\n",
    "and\n",
    "$$\n",
    "\\pi (2) = 1-\\pi(1) = \\frac{\\exp \\big( \\theta_2 \\big)}{\\exp(\\theta_1)+\\exp(\\theta_2)}\n",
    "$$\n",
    "Note that there is only one state $s$ and so we can drop it, i.e. $\\pi(s,a)\\equiv \\pi(a)$. Futhermore, using these linear features makes this representation equivalent to a lookup table where $\\theta_i$ denote the value of action $i$. Lets see how we might use the REINFORCE algorithm we start by computing gradients for the logarithm of the policy function:\n"
   ]
  },
  {
   "cell_type": "code",
   "execution_count": 3,
   "metadata": {
    "collapsed": true
   },
   "outputs": [],
   "source": [
    "import sympy as sp\n",
    "th1, th2, x1, x2 = sp.symbols('Theta1 Theta2 X1 X1')\n",
    "sp.init_printing()"
   ]
  },
  {
   "cell_type": "code",
   "execution_count": 4,
   "metadata": {
    "collapsed": false
   },
   "outputs": [
    {
     "data": {
      "image/png": "[encoded data removed]",
      "text/latex": [
       "$$\\frac{e^{\\Theta_{2}}}{e^{\\Theta_{1}} + e^{\\Theta_{2}}}$$"
      ],
      "text/plain": [
       "    Θ₂   \n",
       "   ℯ     \n",
       "─────────\n",
       " Θ₁    Θ₂\n",
       "ℯ   + ℯ  "
      ]
     },
     "execution_count": 4,
     "metadata": {},
     "output_type": "execute_result"
    }
   ],
   "source": [
    "pi1 = sp.exp(th1) / ( sp.exp(th1) + sp.exp(th2) )\n",
    "dpi1th1 = sp.simplify(sp.diff(sp.ln(pi1),th1))\n",
    "dpi1th1"
   ]
  },
  {
   "cell_type": "code",
   "execution_count": 5,
   "metadata": {
    "collapsed": false
   },
   "outputs": [
    {
     "data": {
      "image/png": "[encoded data removed]",
      "text/latex": [
       "$$- \\frac{e^{\\Theta_{2}}}{e^{\\Theta_{1}} + e^{\\Theta_{2}}}$$"
      ],
      "text/plain": [
       "    Θ₂   \n",
       "  -ℯ     \n",
       "─────────\n",
       " Θ₁    Θ₂\n",
       "ℯ   + ℯ  "
      ]
     },
     "execution_count": 5,
     "metadata": {},
     "output_type": "execute_result"
    }
   ],
   "source": [
    "dpi1th2 = sp.simplify(sp.diff(sp.ln(pi1),th2))\n",
    "dpi1th2"
   ]
  },
  {
   "cell_type": "code",
   "execution_count": 6,
   "metadata": {
    "collapsed": false
   },
   "outputs": [
    {
     "data": {
      "image/png": "[encoded data removed]",
      "text/latex": [
       "$$- \\frac{e^{\\Theta_{1}}}{e^{\\Theta_{1}} + e^{\\Theta_{2}}}$$"
      ],
      "text/plain": [
       "    Θ₁   \n",
       "  -ℯ     \n",
       "─────────\n",
       " Θ₁    Θ₂\n",
       "ℯ   + ℯ  "
      ]
     },
     "execution_count": 6,
     "metadata": {},
     "output_type": "execute_result"
    }
   ],
   "source": [
    "pi2 = sp.exp(th2) / ( sp.exp(th1) + sp.exp(th2) )\n",
    "dpi2th1 = sp.simplify(sp.diff(sp.ln(pi2),th1))\n",
    "dpi2th1"
   ]
  },
  {
   "cell_type": "code",
   "execution_count": 7,
   "metadata": {
    "collapsed": false
   },
   "outputs": [
    {
     "data": {
      "image/png": "[encoded data removed]",
      "text/latex": [
       "$$\\frac{e^{\\Theta_{1}}}{e^{\\Theta_{1}} + e^{\\Theta_{2}}}$$"
      ],
      "text/plain": [
       "    Θ₁   \n",
       "   ℯ     \n",
       "─────────\n",
       " Θ₁    Θ₂\n",
       "ℯ   + ℯ  "
      ]
     },
     "execution_count": 7,
     "metadata": {},
     "output_type": "execute_result"
    }
   ],
   "source": [
    "dpi2th2 = sp.simplify(sp.diff(sp.ln(pi2),th2))\n",
    "dpi2th2"
   ]
  },
  {
   "cell_type": "markdown",
   "metadata": {},
   "source": [
    "In other words the derivatives are:\n",
    "$$\n",
    "\\frac{\\partial \\ln \\pi(1|\\theta)}{\\partial \\theta_1} = 1 - \\pi(1)\n",
    "$$\n",
    "$$\n",
    "\\frac{\\partial \\ln \\pi(1|\\theta)}{\\partial \\theta_2} = -\\pi(2)\n",
    "$$\n",
    "and\n",
    "$$\n",
    "\\frac{\\partial \\ln \\pi(2|\\theta)}{\\partial \\theta_1}  = -\\pi(1)\n",
    "$$\n",
    "$$\n",
    "\\frac{\\partial \\ln \\pi(2|\\theta)}{\\partial \\theta_2} = 1-\\pi(2)\n",
    "$$"
   ]
  },
  {
   "cell_type": "markdown",
   "metadata": {},
   "source": [
    "In terms of our feature vector $x(s,a)\\equiv x(a)$ we can write the above equations in a general matrix form:\n",
    "\\begin{equation*}\n",
    "\\nabla \\ln \\pi (a|\\theta) = \\vec{x}(a) - [\\pi(1),\\pi(2)] [\\vec{x}(1),\\vec{x}(2)]\n",
    "\\end{equation*}\n",
    "where $[\\vec{x}(1),\\vec{x}(2)]$ form a 2x2 matrix (identity matrix in this case) and $[\\pi(1),\\pi(2)]$ is a row vector (1x2). The  $\\vec{x}(a)$ is a (2x1) column vector, when $a=1$ it is $[1,0]^T$ and when $a=2$ it is $[0,1]^T$. See also equation (13.9) in the book. Now we have everything to implement REINFORCE:"
   ]
  },
  {
   "cell_type": "code",
   "execution_count": 8,
   "metadata": {
    "collapsed": false
   },
   "outputs": [
    {
     "data": {
      "text/plain": [
       "[<matplotlib.lines.Line2D at 0x7f80c87fd630>]"
      ]
     },
     "execution_count": 8,
     "metadata": {},
     "output_type": "execute_result"
    },
    {
     "data": {
      "image/png": "[encoded data removed]",
      "text/plain": [
       "<Figure size 432x288 with 1 Axes>"
      ]
     },
     "metadata": {},
     "output_type": "display_data"
    }
   ],
   "source": [
    "theta = np.ones(2) # equal value\n",
    "alpha = .0005 # step size\n",
    "gamma = 1 # so we ignore here\n",
    "x = np.eye(2)\n",
    "pi = lambda a, x, theta : np.exp(np.matmul(theta,x[:,a].T))/np.sum(np.exp(np.matmul(theta,x.T)))\n",
    "life_of_pi = np.zeros( 2000 )\n",
    "life_of_theta = np.zeros( (len(life_of_pi),2) )\n",
    "for episode in range( len(life_of_pi) ):\n",
    "    if np.random.uniform() < pi(0,x,theta):\n",
    "        a = 0\n",
    "    else:\n",
    "        a = 1\n",
    "    G = np.random.normal(loc = Rtrue[a]) # return of the bandit\n",
    "    piGrad = x[:,a] - np.matmul(np.array( [pi(0,x,theta), pi(1,x,theta)] ), x)\n",
    "    theta = theta + alpha * G * piGrad\n",
    "    life_of_pi[episode] = pi(0,x,theta)\n",
    "    life_of_theta[episode,:] = theta\n",
    "\n",
    "%matplotlib inline\n",
    "import matplotlib.pyplot as plt\n",
    "plt.plot(life_of_pi)"
   ]
  },
  {
   "cell_type": "code",
   "execution_count": 9,
   "metadata": {
    "collapsed": false
   },
   "outputs": [
    {
     "data": {
      "text/plain": [
       "[<matplotlib.lines.Line2D at 0x7f80c4f71550>,\n",
       " <matplotlib.lines.Line2D at 0x7f80c4f716d8>]"
      ]
     },
     "execution_count": 9,
     "metadata": {},
     "output_type": "execute_result"
    },
    {
     "data": {
      "image/png": "[encoded data removed]",
      "text/plain": [
       "<Figure size 432x288 with 1 Axes>"
      ]
     },
     "metadata": {},
     "output_type": "display_data"
    }
   ],
   "source": [
    "plt.plot(life_of_theta)"
   ]
  },
  {
   "cell_type": "markdown",
   "metadata": {},
   "source": [
    "### REINFORCE with baseline:"
   ]
  },
  {
   "cell_type": "code",
   "execution_count": 10,
   "metadata": {
    "collapsed": false
   },
   "outputs": [
    {
     "data": {
      "image/png": "[encoded data removed]",
      "text/latex": [
       "$$11.790580260695474$$"
      ],
      "text/plain": [
       "11.790580260695474"
      ]
     },
     "execution_count": 10,
     "metadata": {},
     "output_type": "execute_result"
    },
    {
     "data": {
      "image/png": "[encoded data removed]",
      "text/plain": [
       "<Figure size 432x288 with 1 Axes>"
      ]
     },
     "metadata": {},
     "output_type": "display_data"
    }
   ],
   "source": [
    "theta = np.ones(2) # equal value\n",
    "alpha = .005 # step size\n",
    "gamma = 1 # so ignore?\n",
    "x = np.eye(2)\n",
    "pi = lambda a, x, theta : np.exp(np.matmul(theta,x[:,a].T))/np.sum(np.exp(np.matmul(theta,x.T)))\n",
    "life_of_pi_baseline = np.zeros( 2000 )\n",
    "life_of_theta_baseline = np.zeros( (len(life_of_pi),2) )\n",
    "Gmean = 0.0 # the mean return from state s and using policy pi\n",
    "N = 0.0\n",
    "for episode in range( len(life_of_pi_baseline) ):\n",
    "    if np.random.uniform() < pi(0,x,theta):\n",
    "        a = 0\n",
    "    else:\n",
    "        a = 1\n",
    "    G = np.random.normal(loc=Rtrue[a]) # return of the bandit\n",
    "    N += 1.0\n",
    "    Gmean = Gmean + (1.0/N) * (G - Gmean) # incremental update of the mean\n",
    "    nabla_pi = x[:,a] - np.matmul(np.array( [pi(0,x,theta), pi(1,x,theta)] ), x)\n",
    "    theta = theta + alpha * (G - Gmean) * nabla_pi\n",
    "    life_of_pi_baseline[episode] = pi(0,x,theta)\n",
    "    life_of_theta_baseline[episode,:] = theta\n",
    "\n",
    "%matplotlib inline\n",
    "import matplotlib.pyplot as plt\n",
    "plt.plot(life_of_pi)\n",
    "plt.plot(life_of_pi_baseline)\n",
    "Gmean"
   ]
  },
  {
   "cell_type": "markdown",
   "metadata": {
    "collapsed": true
   },
   "source": [
    "### Actor-Critic\n",
    "We look now at the actor critic he will use a action-value function "
   ]
  },
  {
   "cell_type": "code",
   "execution_count": null,
   "metadata": {
    "collapsed": true
   },
   "outputs": [],
   "source": []
  },
  {
   "cell_type": "code",
   "execution_count": null,
   "metadata": {
    "collapsed": true
   },
   "outputs": [],
   "source": []
  }
 ],
 "metadata": {
  "kernelspec": {
   "display_name": "Python 3",
   "language": "python",
   "name": "python3"
  },
  "language_info": {
   "codemirror_mode": {
    "name": "ipython",
    "version": 3
   },
   "file_extension": ".py",
   "mimetype": "text/x-python",
   "name": "python",
   "nbconvert_exporter": "python",
   "pygments_lexer": "ipython3",
   "version": "3.5.3"
  }
 },
 "nbformat": 4,
 "nbformat_minor": 2
}
