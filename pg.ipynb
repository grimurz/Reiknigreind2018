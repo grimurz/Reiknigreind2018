{
 "cells": [
  {
   "cell_type": "code",
   "execution_count": 26,
   "metadata": {
    "collapsed": true
   },
   "outputs": [],
   "source": [
    "import numpy as np"
   ]
  },
  {
   "cell_type": "markdown",
   "metadata": {},
   "source": [
    "### The Two Armed Bandit Problem solved using policy gradient methods\n",
    "\n",
    "Imagine a two armed bandit each returning on average values:"
   ]
  },
  {
   "cell_type": "code",
   "execution_count": 27,
   "metadata": {
    "collapsed": false
   },
   "outputs": [],
   "source": [
    "Rtrue = np.array([10,12])"
   ]
  },
  {
   "cell_type": "markdown",
   "metadata": {},
   "source": [
    "We would like to learn to choose the arm with the highest reward with highest probability\n",
    "### Policy iteration using function appoximation\n",
    "Lets assume that the policy can be represented by the following function\n",
    "$$\n",
    "\\pi (a) = \\frac{\\exp \\big( \\sum_{i=1}^2 \\theta_i x_i(s,a) \\big)}{\\sum_{a = 0}^1\\exp \\big( \\sum_{i=1}^2 \\theta_ix_i(s,a) \\big)}\n",
    "$$\n",
    "and let the features be\n",
    "$$\n",
    "x_1(s,a) = \\begin{cases} 1 & \\mbox{when } a = 0 \\\\\n",
    "                       0 & \\mbox{otherwise}\n",
    "         \\end{cases}\n",
    "$$\n",
    "and\n",
    "$$\n",
    "x_2(s,a) = \\begin{cases} 1 & \\mbox{when } a = 1 \\\\\n",
    "                       0 & \\mbox{otherwise}\n",
    "         \\end{cases}\n",
    "$$\n",
    "Then \n",
    "$$\n",
    "\\pi (0) = \\frac{\\exp \\big( \\theta_1 \\big)}{\\exp(\\theta_1)+\\exp(\\theta_2)}\n",
    "$$\n",
    "and\n",
    "$$\n",
    "\\pi (1) = 1-\\pi(0) = \\frac{\\exp \\big( \\theta_2 \\big)}{\\exp(\\theta_1)+\\exp(\\theta_2)}\n",
    "$$\n",
    "Note that there is only one state $s$ and so we can drop it, i.e. $\\pi(s,a)\\equiv \\pi(a)$. Futhermore, using these linear features makes this representation equivalent to a lookup table where $\\theta_i$ will denote some *utility* value of action $i$ (not the expected returns!). Lets see how we might use the REINFORCE algorithm we start by computing gradients for the logarithm of the policy function:\n"
   ]
  },
  {
   "cell_type": "code",
   "execution_count": 28,
   "metadata": {
    "collapsed": true
   },
   "outputs": [],
   "source": [
    "import sympy as sp\n",
    "th1, th2, x1, x2 = sp.symbols('Theta1 Theta2 X1 X1')\n",
    "sp.init_printing()"
   ]
  },
  {
   "cell_type": "code",
   "execution_count": 29,
   "metadata": {
    "collapsed": false
   },
   "outputs": [
    {
     "data": {
      "image/png": "[encoded data removed]",
      "text/latex": [
       "$$\\frac{e^{\\Theta_{2}}}{e^{\\Theta_{1}} + e^{\\Theta_{2}}}$$"
      ],
      "text/plain": [
       "    Θ₂   \n",
       "   ℯ     \n",
       "─────────\n",
       " Θ₁    Θ₂\n",
       "ℯ   + ℯ  "
      ]
     },
     "execution_count": 29,
     "metadata": {},
     "output_type": "execute_result"
    }
   ],
   "source": [
    "pi1 = sp.exp(th1) / ( sp.exp(th1) + sp.exp(th2) )\n",
    "dpi1th1 = sp.simplify(sp.diff(sp.ln(pi1),th1))\n",
    "dpi1th1"
   ]
  },
  {
   "cell_type": "code",
   "execution_count": 30,
   "metadata": {
    "collapsed": false
   },
   "outputs": [
    {
     "data": {
      "image/png": "[encoded data removed]",
      "text/latex": [
       "$$- \\frac{e^{\\Theta_{2}}}{e^{\\Theta_{1}} + e^{\\Theta_{2}}}$$"
      ],
      "text/plain": [
       "    Θ₂   \n",
       "  -ℯ     \n",
       "─────────\n",
       " Θ₁    Θ₂\n",
       "ℯ   + ℯ  "
      ]
     },
     "execution_count": 30,
     "metadata": {},
     "output_type": "execute_result"
    }
   ],
   "source": [
    "dpi1th2 = sp.simplify(sp.diff(sp.ln(pi1),th2))\n",
    "dpi1th2"
   ]
  },
  {
   "cell_type": "code",
   "execution_count": 31,
   "metadata": {
    "collapsed": false
   },
   "outputs": [
    {
     "data": {
      "image/png": "[encoded data removed]",
      "text/latex": [
       "$$- \\frac{e^{\\Theta_{1}}}{e^{\\Theta_{1}} + e^{\\Theta_{2}}}$$"
      ],
      "text/plain": [
       "    Θ₁   \n",
       "  -ℯ     \n",
       "─────────\n",
       " Θ₁    Θ₂\n",
       "ℯ   + ℯ  "
      ]
     },
     "execution_count": 31,
     "metadata": {},
     "output_type": "execute_result"
    }
   ],
   "source": [
    "pi2 = sp.exp(th2) / ( sp.exp(th1) + sp.exp(th2) )\n",
    "dpi2th1 = sp.simplify(sp.diff(sp.ln(pi2),th1))\n",
    "dpi2th1"
   ]
  },
  {
   "cell_type": "code",
   "execution_count": 32,
   "metadata": {
    "collapsed": false
   },
   "outputs": [
    {
     "data": {
      "image/png": "[encoded data removed]",
      "text/latex": [
       "$$\\frac{e^{\\Theta_{1}}}{e^{\\Theta_{1}} + e^{\\Theta_{2}}}$$"
      ],
      "text/plain": [
       "    Θ₁   \n",
       "   ℯ     \n",
       "─────────\n",
       " Θ₁    Θ₂\n",
       "ℯ   + ℯ  "
      ]
     },
     "execution_count": 32,
     "metadata": {},
     "output_type": "execute_result"
    }
   ],
   "source": [
    "dpi2th2 = sp.simplify(sp.diff(sp.ln(pi2),th2))\n",
    "dpi2th2"
   ]
  },
  {
   "cell_type": "markdown",
   "metadata": {},
   "source": [
    "In other words the derivatives are:\n",
    "$$\n",
    "\\frac{\\partial \\ln \\pi(0|\\theta)}{\\partial \\theta_1} = 1 - \\pi(0)\n",
    "$$\n",
    "$$\n",
    "\\frac{\\partial \\ln \\pi(0|\\theta)}{\\partial \\theta_2} = -\\pi(1)\n",
    "$$\n",
    "and\n",
    "$$\n",
    "\\frac{\\partial \\ln \\pi(1|\\theta)}{\\partial \\theta_1}  = -\\pi(0)\n",
    "$$\n",
    "$$\n",
    "\\frac{\\partial \\ln \\pi(1|\\theta)}{\\partial \\theta_2} = 1-\\pi(1)\n",
    "$$"
   ]
  },
  {
   "cell_type": "markdown",
   "metadata": {},
   "source": [
    "In terms of our feature vector $x(s,a)\\equiv x(a)$ we can write the above equations in a general matrix form:\n",
    "$$\n",
    "\\nabla \\ln \\pi (a|\\theta) = \\vec{x}(a) - [\\pi(0),\\pi(1)] [\\vec{x}(0),\\vec{x}(1)]\n",
    "$$\n",
    "where $[\\vec{x}(0),\\vec{x}(1)]$ form a 2x2 matrix (identity matrix in this case) and $[\\pi(0),\\pi(1)]$ is a row vector (1x2). The  $\\vec{x}(a)$ is a (2x1) column vector, when $a=0$ it is $[1,0]^T$ and when $a=1$ it is $[0,1]^T$. See also equation (13.9) in the book. Now we have everything to implement:\n",
    "### REINFORCE"
   ]
  },
  {
   "cell_type": "code",
   "execution_count": 33,
   "metadata": {
    "collapsed": false
   },
   "outputs": [
    {
     "data": {
      "text/plain": [
       "[<matplotlib.lines.Line2D at 0x7f5363cb3ba8>]"
      ]
     },
     "execution_count": 33,
     "metadata": {},
     "output_type": "execute_result"
    },
    {
     "data": {
      "image/png": "[encoded data removed]",
      "text/plain": [
       "<Figure size 432x288 with 1 Axes>"
      ]
     },
     "metadata": {},
     "output_type": "display_data"
    }
   ],
   "source": [
    "theta = np.ones(2) # equal value\n",
    "alpha = .0005 # step size\n",
    "gamma = 1 # so we ignore here\n",
    "x = np.eye(2)\n",
    "pi = lambda a, x, theta : np.exp(np.matmul(theta,x[:,a].T))/np.sum(np.exp(np.matmul(theta,x.T)))\n",
    "life_of_pi = np.zeros( 5000 )\n",
    "life_of_theta = np.zeros( (len(life_of_pi),2) )\n",
    "for episode in range( len(life_of_pi) ):\n",
    "    if np.random.uniform() < pi(0,x,theta):\n",
    "        a = 0\n",
    "    else:\n",
    "        a = 1\n",
    "    G = np.random.normal(loc = Rtrue[a]) # return of the bandit\n",
    "    nabla_pi = x[:,a] - np.matmul(np.array( [pi(0,x,theta), pi(1,x,theta)] ), x)\n",
    "    theta = theta + alpha * G * nabla_pi\n",
    "    life_of_pi[episode] = pi(0,x,theta)\n",
    "    life_of_theta[episode,:] = theta\n",
    "\n",
    "%matplotlib inline\n",
    "import matplotlib.pyplot as plt\n",
    "plt.plot(life_of_pi)"
   ]
  },
  {
   "cell_type": "code",
   "execution_count": 34,
   "metadata": {
    "collapsed": false
   },
   "outputs": [
    {
     "data": {
      "text/plain": [
       "[<matplotlib.lines.Line2D at 0x7f5363468710>,\n",
       " <matplotlib.lines.Line2D at 0x7f5363468860>]"
      ]
     },
     "execution_count": 34,
     "metadata": {},
     "output_type": "execute_result"
    },
    {
     "data": {
      "image/png": "[encoded data removed]",
      "text/plain": [
       "<Figure size 432x288 with 1 Axes>"
      ]
     },
     "metadata": {},
     "output_type": "display_data"
    }
   ],
   "source": [
    "plt.plot(life_of_theta)"
   ]
  },
  {
   "cell_type": "markdown",
   "metadata": {},
   "source": [
    "### REINFORCE with baseline:"
   ]
  },
  {
   "cell_type": "code",
   "execution_count": 35,
   "metadata": {
    "collapsed": false
   },
   "outputs": [
    {
     "data": {
      "image/png": "[encoded data removed]",
      "text/latex": [
       "$$11.861060641332687$$"
      ],
      "text/plain": [
       "11.861060641332687"
      ]
     },
     "execution_count": 35,
     "metadata": {},
     "output_type": "execute_result"
    },
    {
     "data": {
      "image/png": "[encoded data removed]",
      "text/plain": [
       "<Figure size 432x288 with 1 Axes>"
      ]
     },
     "metadata": {},
     "output_type": "display_data"
    }
   ],
   "source": [
    "theta = np.ones(2) # equal value\n",
    "alpha = .005 # step size\n",
    "gamma = 1 # so we will ignore it here!\n",
    "x = np.eye(2)\n",
    "pi = lambda a, x, theta : np.exp(np.matmul(theta,x[:,a].T))/np.sum(np.exp(np.matmul(theta,x.T)))\n",
    "life_of_pi_baseline = np.zeros( 5000 )\n",
    "life_of_theta_baseline = np.zeros( (len(life_of_pi),2) )\n",
    "Gmean = 0.0 # the mean return from state s and using policy pi\n",
    "N = 0.0\n",
    "for episode in range( len(life_of_pi_baseline) ):\n",
    "    if np.random.uniform() < pi(0,x,theta):\n",
    "        a = 0\n",
    "    else:\n",
    "        a = 1\n",
    "    G = np.random.normal(loc=Rtrue[a]) # return of the bandit\n",
    "    N += 1.0\n",
    "    Gmean = Gmean + (1.0/N) * (G - Gmean) # incremental update of the mean\n",
    "    nabla_pi = x[:,a] - np.matmul(np.array( [pi(0,x,theta), pi(1,x,theta)] ), x)\n",
    "    theta = theta + alpha * (G - Gmean) * nabla_pi\n",
    "    life_of_pi_baseline[episode] = pi(0,x,theta)\n",
    "    life_of_theta_baseline[episode,:] = theta\n",
    "\n",
    "%matplotlib inline\n",
    "import matplotlib.pyplot as plt\n",
    "plt.plot(life_of_pi)\n",
    "plt.plot(life_of_pi_baseline)\n",
    "Gmean"
   ]
  },
  {
   "cell_type": "code",
   "execution_count": 36,
   "metadata": {
    "collapsed": false
   },
   "outputs": [
    {
     "data": {
      "text/plain": [
       "[<matplotlib.lines.Line2D at 0x7f53633dfe10>,\n",
       " <matplotlib.lines.Line2D at 0x7f53633dff60>]"
      ]
     },
     "execution_count": 36,
     "metadata": {},
     "output_type": "execute_result"
    },
    {
     "data": {
      "image/png": "[encoded data removed]",
      "text/plain": [
       "<Figure size 432x288 with 1 Axes>"
      ]
     },
     "metadata": {},
     "output_type": "display_data"
    }
   ],
   "source": [
    "plt.plot(life_of_theta_baseline)"
   ]
  },
  {
   "cell_type": "markdown",
   "metadata": {
    "collapsed": true
   },
   "source": [
    "### Actor-Critic\n",
    "We look now at the Actor Critic using a value function, for the $n$-armed bandit problem it will be equivalent to REINFORCE with baseline. To see the difference between the two methods we need to use bootstrapping (i.e. TD learning or estimating state value from estimated values of subsequent states). We need to look at a problem with more state than one, for this reason we will look at the *short corridor* problem. We can re-use the policy def above, since we have only two actions here: go left and go right. "
   ]
  },
  {
   "cell_type": "code",
   "execution_count": 37,
   "metadata": {
    "collapsed": false
   },
   "outputs": [],
   "source": [
    "def short_corridor_step(s,a):\n",
    "    step = [-1,1]\n",
    "    if s == 1:\n",
    "        snew = s + step[1-a]\n",
    "    else:\n",
    "        snew = np.maximum(0,s + step[a]) # the states are (wall)0-1-2-3(terminal)\n",
    "    if s == 3:\n",
    "        r = 0 # terminal state\n",
    "    else:\n",
    "        r = -1\n",
    "    return r, snew"
   ]
  },
  {
   "cell_type": "code",
   "execution_count": 38,
   "metadata": {
    "collapsed": false
   },
   "outputs": [
    {
     "data": {
      "text/plain": [
       "array([-11.61081583,  -9.82219089,  -4.37659262,   0.        ])"
      ]
     },
     "execution_count": 38,
     "metadata": {},
     "output_type": "execute_result"
    },
    {
     "data": {
      "image/png": "[encoded data removed]",
      "text/plain": [
       "<Figure size 432x288 with 1 Axes>"
      ]
     },
     "metadata": {},
     "output_type": "display_data"
    }
   ],
   "source": [
    "V = np.zeros(4) # value of the four states, note that V[3] = 0 by definition\n",
    "theta = np.ones(2) # equal values to start off with\n",
    "alpha_w = 0.01 # step sizes for values\n",
    "alpha_th = 0.0001 # smaller step size for theta\n",
    "gamma = 1 # so discounting is not used\n",
    "x = np.eye(2)\n",
    "pi = lambda a, x, theta : np.exp(np.matmul(theta,x[:,a].T))/np.sum(np.exp(np.matmul(theta,x.T)))\n",
    "life_of_pi_ac = np.zeros( 5000 )\n",
    "life_of_value_ac = np.zeros( (len(life_of_pi_ac)) )\n",
    "for episode in range( len(life_of_pi_ac) ):\n",
    "    s = 0 # initial state\n",
    "    I = 1 # used for discounting\n",
    "    while s < 3: \n",
    "        if np.random.uniform() < pi(0,x,theta):\n",
    "            a = 0\n",
    "        else:\n",
    "            a = 1\n",
    "        r, snew = short_corridor_step(s,a)\n",
    "        delta = r + gamma*(V[snew]-V[s])\n",
    "        V[s] = V[s] + alpha_w*delta # note here we are just using a table directly so grad is 1\n",
    "        grad_ln_pi = x[:,a] - np.matmul(np.array( [pi(0,x,theta), pi(1,x,theta)] ), x)\n",
    "        theta = theta + alpha_th*I*delta*grad_ln_pi\n",
    "        I = gamma*I\n",
    "        s = snew\n",
    "    life_of_pi_ac[episode] = pi(0,x,theta)\n",
    "    life_of_value_ac[episode] = V[0]\n",
    "\n",
    "%matplotlib inline\n",
    "import matplotlib.pyplot as plt\n",
    "plt.plot(life_of_pi_ac)\n",
    "V"
   ]
  },
  {
   "cell_type": "markdown",
   "metadata": {
    "collapsed": false
   },
   "source": [
    "The value of state $S$ in example, 13.1. See also figures 13.1 and 13.2 in the book. These figures show the REINFORCE and REINFORCE with baseline algorithms performance. The code supplied by the book are a little non-transparent, and a little bit more complicated than what I have supplied above (they seem to add $\\epsilon=0.05$ greedy style exploration, since the agent tends to get stuck by the wall, this was not needed for the Actor-Critic). Learning a noisy policy means that we should not need to explicitly force exploration, or what? Notice also the fluctuation as we reach the optimal, clearly in this region the step size $\\alpha$ is too large."
   ]
  },
  {
   "cell_type": "code",
   "execution_count": 39,
   "metadata": {
    "collapsed": false
   },
   "outputs": [
    {
     "data": {
      "text/plain": [
       "[<matplotlib.lines.Line2D at 0x7f53633a1f98>]"
      ]
     },
     "execution_count": 39,
     "metadata": {},
     "output_type": "execute_result"
    },
    {
     "data": {
      "image/png": "[encoded data removed]",
      "text/plain": [
       "<Figure size 432x288 with 1 Axes>"
      ]
     },
     "metadata": {},
     "output_type": "display_data"
    }
   ],
   "source": [
    "plt.plot(life_of_value_ac)"
   ]
  },
  {
   "cell_type": "markdown",
   "metadata": {
    "collapsed": true
   },
   "source": [
    "### The symbolic expression for this problem\n",
    "From the Bellman equation (first weeks or study) we have the following for the short corridor problem (see also exercise 13.1):\n",
    "$$V_s = \\pi(V_b-1)+(1-\\pi)(V_s-1)$$\n",
    "$$V_b = \\pi(V_s-1)+(1-\\pi)(V_c-1)$$\n",
    "$$V_c = \\pi(-1) + (1-\\pi)(V_b-1)$$"
   ]
  },
  {
   "cell_type": "code",
   "execution_count": 40,
   "metadata": {
    "collapsed": false,
    "scrolled": true
   },
   "outputs": [
    {
     "data": {
      "image/png": "[encoded data removed]",
      "text/latex": [
       "$$\\frac{- 2 \\pi + 4}{\\pi \\left(\\pi - 1\\right)}$$"
      ],
      "text/plain": [
       " -2⋅π + 4\n",
       "─────────\n",
       "π⋅(π - 1)"
      ]
     },
     "execution_count": 40,
     "metadata": {},
     "output_type": "execute_result"
    }
   ],
   "source": [
    "# we can solve this using sympy:\n",
    "Vs, Vb, Vc, pi = sp.symbols('Vs Vb Vc pi')\n",
    "expr = sp.solve([-Vs+pi*(Vb-1)+(1-pi)*(Vs-1),-Vb+pi*(Vs-1)+(1-pi)*(Vc-1),-Vc+pi*(-1)+(1-pi)*(Vb-1)],(Vs,Vb,Vc))\n",
    "expr[Vs]"
   ]
  },
  {
   "cell_type": "code",
   "execution_count": 41,
   "metadata": {
    "collapsed": false
   },
   "outputs": [
    {
     "data": {
      "image/png": "[encoded data removed]",
      "text/latex": [
       "$$\\left [ - \\sqrt{2} + 2, \\quad \\sqrt{2} + 2\\right ]$$"
      ],
      "text/plain": [
       "[-√2 + 2, √2 + 2]"
      ]
     },
     "execution_count": 41,
     "metadata": {},
     "output_type": "execute_result"
    }
   ],
   "source": [
    "optimal_pi = sp.solve((sp.diff(expr[Vs],pi)))\n",
    "optimal_pi"
   ]
  },
  {
   "cell_type": "markdown",
   "metadata": {},
   "source": [
    "The optimal policy if therefore $\\pi^* = 2-\\sqrt{2}$ since the probability cannot be greater than 1."
   ]
  },
  {
   "cell_type": "code",
   "execution_count": 42,
   "metadata": {
    "collapsed": false
   },
   "outputs": [
    {
     "data": {
      "image/png": "[encoded data removed]",
      "text/latex": [
       "$$0.5857864376269049$$"
      ],
      "text/plain": [
       "0.5857864376269049"
      ]
     },
     "execution_count": 42,
     "metadata": {},
     "output_type": "execute_result"
    }
   ],
   "source": [
    "optimal_pi = -np.sqrt(2)+2\n",
    "optimal_pi"
   ]
  },
  {
   "cell_type": "code",
   "execution_count": 43,
   "metadata": {
    "collapsed": false
   },
   "outputs": [
    {
     "data": {
      "image/png": "[encoded data removed]",
      "text/latex": [
       "$$-11.6568542494924$$"
      ],
      "text/plain": [
       "-11.6568542494924"
      ]
     },
     "execution_count": 43,
     "metadata": {},
     "output_type": "execute_result"
    }
   ],
   "source": [
    "optimal_Vs = expr[Vs].subs(pi,optimal_pi)\n",
    "optimal_Vs"
   ]
  },
  {
   "cell_type": "code",
   "execution_count": null,
   "metadata": {
    "collapsed": true
   },
   "outputs": [],
   "source": []
  }
 ],
 "metadata": {
  "kernelspec": {
   "display_name": "Python 3",
   "language": "python",
   "name": "python3"
  },
  "language_info": {
   "codemirror_mode": {
    "name": "ipython",
    "version": 3
   },
   "file_extension": ".py",
   "mimetype": "text/x-python",
   "name": "python",
   "nbconvert_exporter": "python",
   "pygments_lexer": "ipython3",
   "version": "3.5.3"
  }
 },
 "nbformat": 4,
 "nbformat_minor": 2
}
